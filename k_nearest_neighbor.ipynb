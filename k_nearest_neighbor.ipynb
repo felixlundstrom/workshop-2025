{
  "nbformat": 4,
  "nbformat_minor": 0,
  "metadata": {
    "colab": {
      "provenance": [],
      "include_colab_link": true
    },
    "kernelspec": {
      "name": "python3",
      "display_name": "Python 3"
    }
  },
  "cells": [
    {
      "cell_type": "markdown",
      "metadata": {
        "id": "view-in-github",
        "colab_type": "text"
      },
      "source": [
        "<a href=\"https://colab.research.google.com/github/felixlundstrom/workshop-2025/blob/main/k_nearest_neighbor.ipynb\" target=\"_parent\"><img src=\"https://colab.research.google.com/assets/colab-badge.svg\" alt=\"Open In Colab\"/></a>"
      ]
    },
    {
      "cell_type": "markdown",
      "metadata": {
        "id": "Xga723vG_qNs"
      },
      "source": [
        "#K-Nearest Neighbors (KNN) Algorithm Tutorial - Machine Learning Basics"
      ]
    },
    {
      "cell_type": "code",
      "metadata": {
        "id": "iKB9E-2M2aRS"
      },
      "source": [
        "import numpy as np\n",
        "import pandas as pd\n",
        "import matplotlib.pyplot as plt\n",
        "import seaborn as sns\n",
        "\n",
        "from sklearn.model_selection import train_test_split\n",
        "from sklearn.neighbors import KNeighborsClassifier\n",
        "from sklearn import metrics"
      ],
      "execution_count": 16,
      "outputs": []
    },
    {
      "cell_type": "code",
      "metadata": {
        "id": "xLzqI8hx6D9u"
      },
      "source": [
        "# Import the iris dataset as provided by the sklearn Python module\n",
        "from sklearn.datasets import load_iris\n",
        "iris = load_iris()"
      ],
      "execution_count": 17,
      "outputs": []
    },
    {
      "cell_type": "code",
      "source": [
        "type(iris)"
      ],
      "metadata": {
        "id": "b1lTGozMyP1E"
      },
      "execution_count": null,
      "outputs": []
    },
    {
      "cell_type": "code",
      "source": [
        "# Converting sklearn data into Pandas dataframe\n",
        "# target variables imply\n",
        "# 0.0 - Setosa\n",
        "# 1.0 - Versicolor\n",
        "# 2.0 - Virginica\n",
        "iris = pd.DataFrame(data= np.c_[iris['data'], iris['target']],\n",
        "                     columns= iris['feature_names'] + ['target'])\n",
        "iris.head()"
      ],
      "metadata": {
        "id": "QRJXB54cyNgb"
      },
      "execution_count": null,
      "outputs": []
    },
    {
      "cell_type": "markdown",
      "metadata": {
        "id": "0pDaMUm4JNyO"
      },
      "source": [
        "## Checking for outliers and imbalanced data"
      ]
    },
    {
      "cell_type": "code",
      "source": [
        "# data is perfectly balanced\n",
        "sns.countplot(x='target', data=iris)"
      ],
      "metadata": {
        "id": "NhIB-7MIyKVi"
      },
      "execution_count": null,
      "outputs": []
    },
    {
      "cell_type": "markdown",
      "metadata": {
        "id": "FAYCzmtcQHol"
      },
      "source": [
        "## Plotting a 2-D graph"
      ]
    },
    {
      "cell_type": "code",
      "source": [
        "# not much of outliers to be handled\n",
        "for feature in ['sepal length (cm)', 'sepal width (cm)', 'petal length (cm)', 'petal width (cm)']:\n",
        "  sns.boxplot(x='target', y=feature, data=iris)\n",
        "  plt.show()"
      ],
      "metadata": {
        "id": "KTLtGDqDyG3L"
      },
      "execution_count": null,
      "outputs": []
    },
    {
      "cell_type": "code",
      "source": [
        "sns.scatterplot(x='sepal length (cm)', y='sepal width (cm)', data=iris, hue='target', palette=\"deep\")"
      ],
      "metadata": {
        "id": "EQP9DeOkyDkx"
      },
      "execution_count": null,
      "outputs": []
    },
    {
      "cell_type": "markdown",
      "metadata": {
        "id": "ATmOfn96JXSC"
      },
      "source": [
        "## Separating features and target"
      ]
    },
    {
      "cell_type": "code",
      "metadata": {
        "id": "7F-21a1E7lkG"
      },
      "source": [
        "# X variable contains flower features\n",
        "# Y variable contains target values\n",
        "X = iris.drop(['target'], axis=1)\n",
        "y = iris['target']"
      ],
      "execution_count": 33,
      "outputs": []
    },
    {
      "cell_type": "markdown",
      "metadata": {
        "id": "Fw1VXlonJbr4"
      },
      "source": [
        "## Split the dataset into train and test sets"
      ]
    },
    {
      "cell_type": "code",
      "metadata": {
        "id": "tGa_U8re6HL5"
      },
      "source": [
        "# 60% of the data will be randomly selected at training data\n",
        "# remaining 40% as testing data\n",
        "X_train, X_test, y_train, y_test = train_test_split(X, y, test_size=0.4, random_state=0)"
      ],
      "execution_count": 34,
      "outputs": []
    },
    {
      "cell_type": "markdown",
      "metadata": {
        "id": "mD9ZdQsIJi4m"
      },
      "source": [
        "## Initial model"
      ]
    },
    {
      "cell_type": "code",
      "source": [
        "# Initial model with nearest neighbor as 1(k-value)\n",
        "# further, k will be replaced with optimal value\n",
        "knn = KNeighborsClassifier(n_neighbors=1)\n",
        "\n",
        "knn.fit(X_train, y_train)\n",
        "print(knn.score(X_test, y_test))"
      ],
      "metadata": {
        "id": "udbQG1mWx_dj"
      },
      "execution_count": null,
      "outputs": []
    },
    {
      "cell_type": "markdown",
      "metadata": {
        "id": "E0sTMsHaJlgH"
      },
      "source": [
        "## Finding the right k-value"
      ]
    },
    {
      "cell_type": "code",
      "source": [
        "# checking accuracy score for k-value rangin from 1 to ? (fill the \"?\"\")\n",
        "k_range = list(range(1,26))\n",
        "scores = []\n",
        "\n",
        "# model fitting and calculating accuracy score\n",
        "# for each k-value in the range 1-26\n",
        "for k in k_range:\n",
        "    knn = KNeighborsClassifier(n_neighbors=k)\n",
        "    knn.fit(X_train, y_train)\n",
        "    y_pred = knn.predict(X_test)\n",
        "    scores.append(metrics.accuracy_score(y_test, y_pred))\n",
        "\n",
        "plt.plot(k_range, scores)\n",
        "plt.xlabel('Value of k')\n",
        "plt.ylabel('Accuracy Score')\n",
        "plt.title('Accuracy Scores for different values of k')\n",
        "plt.show()"
      ],
      "metadata": {
        "id": "vaLLVqdDx8i3"
      },
      "execution_count": null,
      "outputs": []
    },
    {
      "cell_type": "markdown",
      "metadata": {
        "id": "gsM-tJMTJyeu"
      },
      "source": [
        "## Accuracy for optimal k-value"
      ]
    },
    {
      "cell_type": "code",
      "source": [
        "# Fill the optimal k-value\n",
        "knn = KNeighborsClassifier(n_neighbors=?)\n",
        "knn.fit(X_train, y_train)\n",
        "print(knn.score(X_test, y_test))"
      ],
      "metadata": {
        "id": "y5oyjH5bx5TD"
      },
      "execution_count": null,
      "outputs": []
    },
    {
      "cell_type": "markdown",
      "metadata": {
        "id": "m5oPYWlNJ7vP"
      },
      "source": [
        "## Predicting class of new data"
      ]
    },
    {
      "cell_type": "code",
      "source": [
        "knn = KNeighborsClassifier(n_neighbors=11)\n",
        "\n",
        "# fitting/\"training\" the entire data without splitting\n",
        "# into train and test\n",
        "knn.fit(iris.drop(['target'], axis=1), iris['target'])\n",
        "\n",
        "# Show test results\n",
        "prediction = knn.predict(X_test)\n",
        "\n",
        "flower_map = {0: 'Setosa',  1: 'Versicolor', 2: 'Virginica'}\n",
        "\n",
        "for p, y in zip(prediction, y_test) :\n",
        "    if(p == y):\n",
        "        print(f'TRUE: Predicted: {flower_map[p]}, Target: {flower_map[y]}')\n",
        "    else:\n",
        "        print(f'FALSE: Predicted: {flower_map[p]}, Target: {flower_map[y]}')"
      ],
      "metadata": {
        "id": "ZXeBok42x0TV"
      },
      "execution_count": null,
      "outputs": []
    }
  ]
}